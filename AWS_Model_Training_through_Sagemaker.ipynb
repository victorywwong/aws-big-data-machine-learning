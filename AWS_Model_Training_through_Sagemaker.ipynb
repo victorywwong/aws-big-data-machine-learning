{
  "nbformat": 4,
  "nbformat_minor": 0,
  "metadata": {
    "colab": {
      "name": "AWS Model Training through Sagemaker.ipynb",
      "provenance": [],
      "collapsed_sections": [],
      "authorship_tag": "ABX9TyPtJ1pJzZo+RU6YDT/E976O",
      "include_colab_link": true
    },
    "kernelspec": {
      "name": "python3",
      "display_name": "Python 3"
    }
  },
  "cells": [
    {
      "cell_type": "markdown",
      "metadata": {
        "id": "view-in-github",
        "colab_type": "text"
      },
      "source": [
        "<a href=\"https://colab.research.google.com/github/victorywwong/aws-big-data-machine-learning/blob/master/AWS_Model_Training_through_Sagemaker.ipynb\" target=\"_parent\"><img src=\"https://colab.research.google.com/assets/colab-badge.svg\" alt=\"Open In Colab\"/></a>"
      ]
    },
    {
      "cell_type": "markdown",
      "metadata": {
        "id": "1sO846P6lLM1",
        "colab_type": "text"
      },
      "source": [
        "This is a text classification example"
      ]
    },
    {
      "cell_type": "code",
      "metadata": {
        "id": "rwpLEk-ALgo6",
        "colab_type": "code",
        "colab": {}
      },
      "source": [
        "import boto3\n",
        "import pandas\n",
        "import sagemaker\n",
        "from sagemaker import get_execution_role\n",
        "sagemaker_session = sagemaker.Session()\n",
        "role = get_execution_role()\n",
        "role_name = role[role.rfind('/') + 1:]\n",
        "print(role_name)\n",
        "\n",
        "s3 = boto3.resource('s3')\n",
        "s3_client = boto3.client('s3')\n",
        "bucket = 'ml-datalake'\n",
        "prefix = 'datalake/training'\n",
        "job_run_id = 'id'"
      ],
      "execution_count": 0,
      "outputs": []
    },
    {
      "cell_type": "markdown",
      "metadata": {
        "id": "4rViVXCcYSIZ",
        "colab_type": "text"
      },
      "source": [
        "Data channels"
      ]
    },
    {
      "cell_type": "code",
      "metadata": {
        "id": "CF0nvoGJYTfW",
        "colab_type": "code",
        "colab": {}
      },
      "source": [
        "train_channel = prefix + '/train/'\n",
        "validation_channel = prefix + '/validation/'\n",
        "\n",
        "s3_train_data = 's3://{}/{}'.format(bucket, train_channel)\n",
        "s3_validation_data = 's3://{}/{}'.format(bucket, validation_channel)\n",
        "\n",
        "train_data = sagemaker.session.s3_input(s3_train_data, distribution='FullyReplicated', content_type='text/plain', s3_data_type='S3Prefix')\n",
        "validation_data = sagemaker.session.s3_input(s3_validation_data, distribution='FullyReplicated', content_type='text/plain', s3_d\n",
        "\n",
        "data_channels = {'train': train_data, 'validation': validation_data} \n",
        "\n",
        "s3_output_location = 's3://{}/sagemaker/{}'.format(bucket,job_run_id)\n"
      ],
      "execution_count": 0,
      "outputs": []
    },
    {
      "cell_type": "markdown",
      "metadata": {
        "id": "uo8ievF4Z4Zb",
        "colab_type": "text"
      },
      "source": [
        "Training"
      ]
    },
    {
      "cell_type": "code",
      "metadata": {
        "id": "cHpLHfyFZ5ly",
        "colab_type": "code",
        "colab": {}
      },
      "source": [
        "session = boto3.session.Session()\n",
        "region = session.region_name\n",
        "\n",
        "# Classification example\n",
        "container = sagemaker.amazon.amazon_estimator.get_image_url(region, \"blazingtext\", \"latest\")\n",
        "print('Using SageMaker container: {} ({})').format(container, region)\n"
      ],
      "execution_count": 0,
      "outputs": []
    },
    {
      "cell_type": "code",
      "metadata": {
        "id": "7fz3Pc7UcMCT",
        "colab_type": "code",
        "colab": {}
      },
      "source": [
        "model = sagemaker.estimator.Estimator(container,\n",
        "                                      role,\n",
        "                                      train_instance_count=1,\n",
        "                                      train_instance_type='ml.c5.4xlarge',\n",
        "                                      train_volume_size = 30,\n",
        "                                      train_max_run = 360000,\n",
        "                                      input_mode = 'File',\n",
        "                                      output_path=s3_output_location,\n",
        "                                      sagemaker_session=sagemaker_session)"
      ],
      "execution_count": 0,
      "outputs": []
    },
    {
      "cell_type": "code",
      "metadata": {
        "id": "DLtKS-Gdc75n",
        "colab_type": "code",
        "colab": {}
      },
      "source": [
        "model.set_hyperparameters(mode='supervised',\n",
        "                          min_epochs=5,\n",
        "                          epochs=100,\n",
        "                          min_count=2\n",
        "                          learning_rate=0.01,\n",
        "                          vector_dim=134,\n",
        "                          early_stopping=True,\n",
        "                          patience=50,\n",
        "                          word_ngrams=5)"
      ],
      "execution_count": 0,
      "outputs": []
    },
    {
      "cell_type": "markdown",
      "metadata": {
        "id": "VeRmGWcIfXMW",
        "colab_type": "text"
      },
      "source": [
        "Hyperparameter Tuning"
      ]
    },
    {
      "cell_type": "code",
      "metadata": {
        "id": "5wIukPHPfY-R",
        "colab_type": "code",
        "colab": {}
      },
      "source": [
        "from sagemaker.tuner import IntegerParameter, CategoricalParameter, ContinuousParameter, HyperparameterTuner\n",
        "hyperparameter_ranges = {'min_count': IntegerParameter(2, 5),\n",
        "                         'learning_rate': ContinuousParameter(0.01, 0.08),\n",
        "                         'vector_dim': IntegerParameter(100, 200),\n",
        "                         'word_ngrams': IntegerParameter(2, 5)}"
      ],
      "execution_count": 0,
      "outputs": []
    },
    {
      "cell_type": "code",
      "metadata": {
        "id": "yiY9SG0RgV22",
        "colab_type": "code",
        "colab": {}
      },
      "source": [
        "objective_metric_name = 'validation:accuracy'"
      ],
      "execution_count": 0,
      "outputs": []
    },
    {
      "cell_type": "code",
      "metadata": {
        "id": "stYesVubgcdc",
        "colab_type": "code",
        "colab": {}
      },
      "source": [
        "tuner = HyperparameterTuner(model,\n",
        "                            objective_metric_name,\n",
        "                            hyperparameter_ranges,\n",
        "                            max_job=4,\n",
        "                            max_parallel_jobs=2,\n",
        "                            base_tuning_job_name='training-'+job_run_id[3:])"
      ],
      "execution_count": 0,
      "outputs": []
    },
    {
      "cell_type": "code",
      "metadata": {
        "id": "UE_TQuklg0XT",
        "colab_type": "code",
        "colab": {}
      },
      "source": [
        "tuner.fit(data_channels)"
      ],
      "execution_count": 0,
      "outputs": []
    },
    {
      "cell_type": "markdown",
      "metadata": {
        "id": "Bl-GYADglpPO",
        "colab_type": "text"
      },
      "source": [
        "Deploy"
      ]
    },
    {
      "cell_type": "code",
      "metadata": {
        "id": "YWb_IjaDlovN",
        "colab_type": "code",
        "colab": {}
      },
      "source": [
        "tuner.deploy(initial_instance_count=1, instance_type='ml.m4.xlarge', endpoint_name='classifier')"
      ],
      "execution_count": 0,
      "outputs": []
    }
  ]
}